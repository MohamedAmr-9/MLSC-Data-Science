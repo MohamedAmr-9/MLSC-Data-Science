{
  "nbformat": 4,
  "nbformat_minor": 0,
  "metadata": {
    "colab": {
      "provenance": []
    },
    "kernelspec": {
      "name": "python3",
      "display_name": "Python 3"
    },
    "language_info": {
      "name": "python"
    }
  },
  "cells": [
    {
      "cell_type": "code",
      "execution_count": 63,
      "metadata": {
        "id": "YxgUseq5Y1Ab"
      },
      "outputs": [],
      "source": [
        "import pandas as pd\n",
        "import numpy as np\n",
        "import matplotlib.pyplot as plt\n",
        "import seaborn as sns\n",
        "from sklearn.model_selection import train_test_split\n",
        "from sklearn.preprocessing import StandardScaler\n",
        "from imblearn.over_sampling import SMOTE\n",
        "from sklearn.ensemble import RandomForestClassifier\n",
        "from sklearn.metrics import classification_report, confusion_matrix, roc_auc_score\n",
        "import joblib\n",
        "from sklearn.model_selection import train_test_split\n",
        "from sklearn.preprocessing import LabelEncoder\n",
        "from imblearn.over_sampling import SMOTE\n",
        "from sklearn.linear_model import LogisticRegression\n",
        "from sklearn.metrics import accuracy_score, precision_score, recall_score, f1_score, roc_auc_score"
      ]
    },
    {
      "cell_type": "markdown",
      "source": [
        "Load the dataset"
      ],
      "metadata": {
        "id": "jwdBTHhkaPOM"
      }
    },
    {
      "cell_type": "code",
      "source": [
        "df = pd.read_csv(\"/content/drive/MyDrive/Dataset/nearest-earth-objects(1910-2024).csv\")\n",
        "df.head(5)"
      ],
      "metadata": {
        "colab": {
          "base_uri": "https://localhost:8080/",
          "height": 258
        },
        "id": "eiuoU3efaOwl",
        "outputId": "f413a09c-6b1a-46b3-b588-15d49617ac66"
      },
      "execution_count": 8,
      "outputs": [
        {
          "output_type": "execute_result",
          "data": {
            "text/plain": [
              "    neo_id                name  absolute_magnitude  estimated_diameter_min  \\\n",
              "0  2162117  162117 (1998 SD15)               19.14                0.394962   \n",
              "1  2349507    349507 (2008 QY)               18.50                0.530341   \n",
              "2  2455415    455415 (2003 GA)               21.45                0.136319   \n",
              "3  3132126           (2002 PB)               20.63                0.198863   \n",
              "4  3557844           (2011 DW)               22.70                0.076658   \n",
              "\n",
              "   estimated_diameter_max orbiting_body  relative_velocity  miss_distance  \\\n",
              "0                0.883161         Earth       71745.401048   5.814362e+07   \n",
              "1                1.185878         Earth      109949.757148   5.580105e+07   \n",
              "2                0.304818         Earth       24865.506798   6.720689e+07   \n",
              "3                0.444672         Earth       78890.076805   3.039644e+07   \n",
              "4                0.171412         Earth       56036.519484   6.311863e+07   \n",
              "\n",
              "   is_hazardous  \n",
              "0         False  \n",
              "1          True  \n",
              "2         False  \n",
              "3         False  \n",
              "4         False  "
            ],
            "text/html": [
              "\n",
              "  <div id=\"df-12afb037-4d7c-4760-ba79-3113acbe49aa\" class=\"colab-df-container\">\n",
              "    <div>\n",
              "<style scoped>\n",
              "    .dataframe tbody tr th:only-of-type {\n",
              "        vertical-align: middle;\n",
              "    }\n",
              "\n",
              "    .dataframe tbody tr th {\n",
              "        vertical-align: top;\n",
              "    }\n",
              "\n",
              "    .dataframe thead th {\n",
              "        text-align: right;\n",
              "    }\n",
              "</style>\n",
              "<table border=\"1\" class=\"dataframe\">\n",
              "  <thead>\n",
              "    <tr style=\"text-align: right;\">\n",
              "      <th></th>\n",
              "      <th>neo_id</th>\n",
              "      <th>name</th>\n",
              "      <th>absolute_magnitude</th>\n",
              "      <th>estimated_diameter_min</th>\n",
              "      <th>estimated_diameter_max</th>\n",
              "      <th>orbiting_body</th>\n",
              "      <th>relative_velocity</th>\n",
              "      <th>miss_distance</th>\n",
              "      <th>is_hazardous</th>\n",
              "    </tr>\n",
              "  </thead>\n",
              "  <tbody>\n",
              "    <tr>\n",
              "      <th>0</th>\n",
              "      <td>2162117</td>\n",
              "      <td>162117 (1998 SD15)</td>\n",
              "      <td>19.14</td>\n",
              "      <td>0.394962</td>\n",
              "      <td>0.883161</td>\n",
              "      <td>Earth</td>\n",
              "      <td>71745.401048</td>\n",
              "      <td>5.814362e+07</td>\n",
              "      <td>False</td>\n",
              "    </tr>\n",
              "    <tr>\n",
              "      <th>1</th>\n",
              "      <td>2349507</td>\n",
              "      <td>349507 (2008 QY)</td>\n",
              "      <td>18.50</td>\n",
              "      <td>0.530341</td>\n",
              "      <td>1.185878</td>\n",
              "      <td>Earth</td>\n",
              "      <td>109949.757148</td>\n",
              "      <td>5.580105e+07</td>\n",
              "      <td>True</td>\n",
              "    </tr>\n",
              "    <tr>\n",
              "      <th>2</th>\n",
              "      <td>2455415</td>\n",
              "      <td>455415 (2003 GA)</td>\n",
              "      <td>21.45</td>\n",
              "      <td>0.136319</td>\n",
              "      <td>0.304818</td>\n",
              "      <td>Earth</td>\n",
              "      <td>24865.506798</td>\n",
              "      <td>6.720689e+07</td>\n",
              "      <td>False</td>\n",
              "    </tr>\n",
              "    <tr>\n",
              "      <th>3</th>\n",
              "      <td>3132126</td>\n",
              "      <td>(2002 PB)</td>\n",
              "      <td>20.63</td>\n",
              "      <td>0.198863</td>\n",
              "      <td>0.444672</td>\n",
              "      <td>Earth</td>\n",
              "      <td>78890.076805</td>\n",
              "      <td>3.039644e+07</td>\n",
              "      <td>False</td>\n",
              "    </tr>\n",
              "    <tr>\n",
              "      <th>4</th>\n",
              "      <td>3557844</td>\n",
              "      <td>(2011 DW)</td>\n",
              "      <td>22.70</td>\n",
              "      <td>0.076658</td>\n",
              "      <td>0.171412</td>\n",
              "      <td>Earth</td>\n",
              "      <td>56036.519484</td>\n",
              "      <td>6.311863e+07</td>\n",
              "      <td>False</td>\n",
              "    </tr>\n",
              "  </tbody>\n",
              "</table>\n",
              "</div>\n",
              "    <div class=\"colab-df-buttons\">\n",
              "\n",
              "  <div class=\"colab-df-container\">\n",
              "    <button class=\"colab-df-convert\" onclick=\"convertToInteractive('df-12afb037-4d7c-4760-ba79-3113acbe49aa')\"\n",
              "            title=\"Convert this dataframe to an interactive table.\"\n",
              "            style=\"display:none;\">\n",
              "\n",
              "  <svg xmlns=\"http://www.w3.org/2000/svg\" height=\"24px\" viewBox=\"0 -960 960 960\">\n",
              "    <path d=\"M120-120v-720h720v720H120Zm60-500h600v-160H180v160Zm220 220h160v-160H400v160Zm0 220h160v-160H400v160ZM180-400h160v-160H180v160Zm440 0h160v-160H620v160ZM180-180h160v-160H180v160Zm440 0h160v-160H620v160Z\"/>\n",
              "  </svg>\n",
              "    </button>\n",
              "\n",
              "  <style>\n",
              "    .colab-df-container {\n",
              "      display:flex;\n",
              "      gap: 12px;\n",
              "    }\n",
              "\n",
              "    .colab-df-convert {\n",
              "      background-color: #E8F0FE;\n",
              "      border: none;\n",
              "      border-radius: 50%;\n",
              "      cursor: pointer;\n",
              "      display: none;\n",
              "      fill: #1967D2;\n",
              "      height: 32px;\n",
              "      padding: 0 0 0 0;\n",
              "      width: 32px;\n",
              "    }\n",
              "\n",
              "    .colab-df-convert:hover {\n",
              "      background-color: #E2EBFA;\n",
              "      box-shadow: 0px 1px 2px rgba(60, 64, 67, 0.3), 0px 1px 3px 1px rgba(60, 64, 67, 0.15);\n",
              "      fill: #174EA6;\n",
              "    }\n",
              "\n",
              "    .colab-df-buttons div {\n",
              "      margin-bottom: 4px;\n",
              "    }\n",
              "\n",
              "    [theme=dark] .colab-df-convert {\n",
              "      background-color: #3B4455;\n",
              "      fill: #D2E3FC;\n",
              "    }\n",
              "\n",
              "    [theme=dark] .colab-df-convert:hover {\n",
              "      background-color: #434B5C;\n",
              "      box-shadow: 0px 1px 3px 1px rgba(0, 0, 0, 0.15);\n",
              "      filter: drop-shadow(0px 1px 2px rgba(0, 0, 0, 0.3));\n",
              "      fill: #FFFFFF;\n",
              "    }\n",
              "  </style>\n",
              "\n",
              "    <script>\n",
              "      const buttonEl =\n",
              "        document.querySelector('#df-12afb037-4d7c-4760-ba79-3113acbe49aa button.colab-df-convert');\n",
              "      buttonEl.style.display =\n",
              "        google.colab.kernel.accessAllowed ? 'block' : 'none';\n",
              "\n",
              "      async function convertToInteractive(key) {\n",
              "        const element = document.querySelector('#df-12afb037-4d7c-4760-ba79-3113acbe49aa');\n",
              "        const dataTable =\n",
              "          await google.colab.kernel.invokeFunction('convertToInteractive',\n",
              "                                                    [key], {});\n",
              "        if (!dataTable) return;\n",
              "\n",
              "        const docLinkHtml = 'Like what you see? Visit the ' +\n",
              "          '<a target=\"_blank\" href=https://colab.research.google.com/notebooks/data_table.ipynb>data table notebook</a>'\n",
              "          + ' to learn more about interactive tables.';\n",
              "        element.innerHTML = '';\n",
              "        dataTable['output_type'] = 'display_data';\n",
              "        await google.colab.output.renderOutput(dataTable, element);\n",
              "        const docLink = document.createElement('div');\n",
              "        docLink.innerHTML = docLinkHtml;\n",
              "        element.appendChild(docLink);\n",
              "      }\n",
              "    </script>\n",
              "  </div>\n",
              "\n",
              "\n",
              "<div id=\"df-0820203a-78c7-422c-a6e2-4a791050964f\">\n",
              "  <button class=\"colab-df-quickchart\" onclick=\"quickchart('df-0820203a-78c7-422c-a6e2-4a791050964f')\"\n",
              "            title=\"Suggest charts\"\n",
              "            style=\"display:none;\">\n",
              "\n",
              "<svg xmlns=\"http://www.w3.org/2000/svg\" height=\"24px\"viewBox=\"0 0 24 24\"\n",
              "     width=\"24px\">\n",
              "    <g>\n",
              "        <path d=\"M19 3H5c-1.1 0-2 .9-2 2v14c0 1.1.9 2 2 2h14c1.1 0 2-.9 2-2V5c0-1.1-.9-2-2-2zM9 17H7v-7h2v7zm4 0h-2V7h2v10zm4 0h-2v-4h2v4z\"/>\n",
              "    </g>\n",
              "</svg>\n",
              "  </button>\n",
              "\n",
              "<style>\n",
              "  .colab-df-quickchart {\n",
              "      --bg-color: #E8F0FE;\n",
              "      --fill-color: #1967D2;\n",
              "      --hover-bg-color: #E2EBFA;\n",
              "      --hover-fill-color: #174EA6;\n",
              "      --disabled-fill-color: #AAA;\n",
              "      --disabled-bg-color: #DDD;\n",
              "  }\n",
              "\n",
              "  [theme=dark] .colab-df-quickchart {\n",
              "      --bg-color: #3B4455;\n",
              "      --fill-color: #D2E3FC;\n",
              "      --hover-bg-color: #434B5C;\n",
              "      --hover-fill-color: #FFFFFF;\n",
              "      --disabled-bg-color: #3B4455;\n",
              "      --disabled-fill-color: #666;\n",
              "  }\n",
              "\n",
              "  .colab-df-quickchart {\n",
              "    background-color: var(--bg-color);\n",
              "    border: none;\n",
              "    border-radius: 50%;\n",
              "    cursor: pointer;\n",
              "    display: none;\n",
              "    fill: var(--fill-color);\n",
              "    height: 32px;\n",
              "    padding: 0;\n",
              "    width: 32px;\n",
              "  }\n",
              "\n",
              "  .colab-df-quickchart:hover {\n",
              "    background-color: var(--hover-bg-color);\n",
              "    box-shadow: 0 1px 2px rgba(60, 64, 67, 0.3), 0 1px 3px 1px rgba(60, 64, 67, 0.15);\n",
              "    fill: var(--button-hover-fill-color);\n",
              "  }\n",
              "\n",
              "  .colab-df-quickchart-complete:disabled,\n",
              "  .colab-df-quickchart-complete:disabled:hover {\n",
              "    background-color: var(--disabled-bg-color);\n",
              "    fill: var(--disabled-fill-color);\n",
              "    box-shadow: none;\n",
              "  }\n",
              "\n",
              "  .colab-df-spinner {\n",
              "    border: 2px solid var(--fill-color);\n",
              "    border-color: transparent;\n",
              "    border-bottom-color: var(--fill-color);\n",
              "    animation:\n",
              "      spin 1s steps(1) infinite;\n",
              "  }\n",
              "\n",
              "  @keyframes spin {\n",
              "    0% {\n",
              "      border-color: transparent;\n",
              "      border-bottom-color: var(--fill-color);\n",
              "      border-left-color: var(--fill-color);\n",
              "    }\n",
              "    20% {\n",
              "      border-color: transparent;\n",
              "      border-left-color: var(--fill-color);\n",
              "      border-top-color: var(--fill-color);\n",
              "    }\n",
              "    30% {\n",
              "      border-color: transparent;\n",
              "      border-left-color: var(--fill-color);\n",
              "      border-top-color: var(--fill-color);\n",
              "      border-right-color: var(--fill-color);\n",
              "    }\n",
              "    40% {\n",
              "      border-color: transparent;\n",
              "      border-right-color: var(--fill-color);\n",
              "      border-top-color: var(--fill-color);\n",
              "    }\n",
              "    60% {\n",
              "      border-color: transparent;\n",
              "      border-right-color: var(--fill-color);\n",
              "    }\n",
              "    80% {\n",
              "      border-color: transparent;\n",
              "      border-right-color: var(--fill-color);\n",
              "      border-bottom-color: var(--fill-color);\n",
              "    }\n",
              "    90% {\n",
              "      border-color: transparent;\n",
              "      border-bottom-color: var(--fill-color);\n",
              "    }\n",
              "  }\n",
              "</style>\n",
              "\n",
              "  <script>\n",
              "    async function quickchart(key) {\n",
              "      const quickchartButtonEl =\n",
              "        document.querySelector('#' + key + ' button');\n",
              "      quickchartButtonEl.disabled = true;  // To prevent multiple clicks.\n",
              "      quickchartButtonEl.classList.add('colab-df-spinner');\n",
              "      try {\n",
              "        const charts = await google.colab.kernel.invokeFunction(\n",
              "            'suggestCharts', [key], {});\n",
              "      } catch (error) {\n",
              "        console.error('Error during call to suggestCharts:', error);\n",
              "      }\n",
              "      quickchartButtonEl.classList.remove('colab-df-spinner');\n",
              "      quickchartButtonEl.classList.add('colab-df-quickchart-complete');\n",
              "    }\n",
              "    (() => {\n",
              "      let quickchartButtonEl =\n",
              "        document.querySelector('#df-0820203a-78c7-422c-a6e2-4a791050964f button');\n",
              "      quickchartButtonEl.style.display =\n",
              "        google.colab.kernel.accessAllowed ? 'block' : 'none';\n",
              "    })();\n",
              "  </script>\n",
              "</div>\n",
              "\n",
              "    </div>\n",
              "  </div>\n"
            ],
            "application/vnd.google.colaboratory.intrinsic+json": {
              "type": "dataframe",
              "variable_name": "df"
            }
          },
          "metadata": {},
          "execution_count": 8
        }
      ]
    },
    {
      "cell_type": "markdown",
      "source": [
        "Display basic info and first few rows"
      ],
      "metadata": {
        "id": "ja7-5Pvxi966"
      }
    },
    {
      "cell_type": "code",
      "source": [
        "print(df.info())\n",
        "print(df.head())\n",
        "print(df.isnull().sum())\n",
        "print(df.describe())"
      ],
      "metadata": {
        "colab": {
          "base_uri": "https://localhost:8080/"
        },
        "id": "JuXGtglfjAL9",
        "outputId": "4b981bf5-ce21-4ecb-c4eb-ef127cb588fc"
      },
      "execution_count": 40,
      "outputs": [
        {
          "output_type": "stream",
          "name": "stdout",
          "text": [
            "<class 'pandas.core.frame.DataFrame'>\n",
            "Index: 338171 entries, 0 to 338198\n",
            "Data columns (total 9 columns):\n",
            " #   Column                  Non-Null Count   Dtype  \n",
            "---  ------                  --------------   -----  \n",
            " 0   neo_id                  338171 non-null  int64  \n",
            " 1   name                    338171 non-null  object \n",
            " 2   absolute_magnitude      338171 non-null  float64\n",
            " 3   estimated_diameter_min  338171 non-null  float64\n",
            " 4   estimated_diameter_max  338171 non-null  float64\n",
            " 5   orbiting_body           338171 non-null  object \n",
            " 6   relative_velocity       338171 non-null  float64\n",
            " 7   miss_distance           338171 non-null  float64\n",
            " 8   is_hazardous            338171 non-null  bool   \n",
            "dtypes: bool(1), float64(5), int64(1), object(2)\n",
            "memory usage: 23.5+ MB\n",
            "None\n",
            "    neo_id                name  absolute_magnitude  estimated_diameter_min  \\\n",
            "0  2162117  162117 (1998 SD15)               19.14                0.394962   \n",
            "1  2349507    349507 (2008 QY)               18.50                0.530341   \n",
            "2  2455415    455415 (2003 GA)               21.45                0.136319   \n",
            "3  3132126           (2002 PB)               20.63                0.198863   \n",
            "4  3557844           (2011 DW)               22.70                0.076658   \n",
            "\n",
            "   estimated_diameter_max orbiting_body  relative_velocity  miss_distance  \\\n",
            "0                0.883161         Earth       71745.401048   5.814362e+07   \n",
            "1                1.185878         Earth      109949.757148   5.580105e+07   \n",
            "2                0.304818         Earth       24865.506798   6.720689e+07   \n",
            "3                0.444672         Earth       78890.076805   3.039644e+07   \n",
            "4                0.171412         Earth       56036.519484   6.311863e+07   \n",
            "\n",
            "   is_hazardous  \n",
            "0         False  \n",
            "1          True  \n",
            "2         False  \n",
            "3         False  \n",
            "4         False  \n",
            "neo_id                    0\n",
            "name                      0\n",
            "absolute_magnitude        0\n",
            "estimated_diameter_min    0\n",
            "estimated_diameter_max    0\n",
            "orbiting_body             0\n",
            "relative_velocity         0\n",
            "miss_distance             0\n",
            "is_hazardous              0\n",
            "dtype: int64\n",
            "             neo_id  absolute_magnitude  estimated_diameter_min  \\\n",
            "count  3.381710e+05       338171.000000           338171.000000   \n",
            "mean   1.760041e+07           22.932525                0.157812   \n",
            "std    2.287276e+07            2.911216                0.313885   \n",
            "min    2.000433e+06            9.250000                0.000511   \n",
            "25%    3.373980e+06           20.740000                0.025384   \n",
            "50%    3.742127e+06           22.800000                0.073207   \n",
            "75%    5.405374e+07           25.100000                0.189041   \n",
            "max    5.446281e+07           33.580000               37.545248   \n",
            "\n",
            "       estimated_diameter_max  relative_velocity  miss_distance  \n",
            "count           338171.000000      338171.000000   3.381710e+05  \n",
            "mean                 0.352878       51060.017994   4.153547e+07  \n",
            "std                  0.701869       26399.922830   2.077411e+07  \n",
            "min                  0.001143         203.346433   6.745533e+03  \n",
            "25%                  0.056760       30710.626399   2.494495e+07  \n",
            "50%                  0.163697       47557.046397   4.332724e+07  \n",
            "75%                  0.422708       66673.223798   5.933961e+07  \n",
            "max                 83.953727      291781.106613   7.479865e+07  \n"
          ]
        }
      ]
    },
    {
      "cell_type": "markdown",
      "source": [
        "Handling missing values"
      ],
      "metadata": {
        "id": "BWulK0TTkAx8"
      }
    },
    {
      "cell_type": "code",
      "source": [
        "df.dropna(inplace=True)"
      ],
      "metadata": {
        "id": "oHkdhHnWkBgR"
      },
      "execution_count": 48,
      "outputs": []
    },
    {
      "cell_type": "markdown",
      "source": [
        "EDA - Plot hazardous vs non-hazardous"
      ],
      "metadata": {
        "id": "Dn0zQiI1kYIZ"
      }
    },
    {
      "cell_type": "code",
      "source": [
        "sns.set_style(\"whitegrid\")\n",
        "plt.figure(figsize=(6,4))\n",
        "sns.countplot(x=df[\"is_hazardous\"], palette=[\"red\", \"blue\"])\n",
        "plt.title(\"Distribution of Hazardous vs. Non-Hazardous NEOs\")\n",
        "plt.xlabel(\"Is Hazardous\")\n",
        "plt.ylabel(\"Count\")\n",
        "plt.show()"
      ],
      "metadata": {
        "colab": {
          "base_uri": "https://localhost:8080/",
          "height": 517
        },
        "id": "Xr6YuAqH85CY",
        "outputId": "dfcd41e1-e941-4a08-cb7c-8d5d208a4153"
      },
      "execution_count": 42,
      "outputs": [
        {
          "output_type": "stream",
          "name": "stderr",
          "text": [
            "<ipython-input-42-d61d18d06cf7>:3: FutureWarning: \n",
            "\n",
            "Passing `palette` without assigning `hue` is deprecated and will be removed in v0.14.0. Assign the `x` variable to `hue` and set `legend=False` for the same effect.\n",
            "\n",
            "  sns.countplot(x=df[\"is_hazardous\"], palette=[\"red\", \"blue\"])\n"
          ]
        },
        {
          "output_type": "display_data",
          "data": {
            "text/plain": [
              "<Figure size 600x400 with 1 Axes>"
            ],
            "image/png": "[encoded data removed]"
          },
          "metadata": {}
        }
      ]
    },
    {
      "cell_type": "code",
      "source": [
        "plt.figure(figsize=(8,5))\n",
        "sns.histplot(df[\"estimated_diameter_max\"], bins=30, kde=True, color=\"purple\")\n",
        "plt.title(\"Diameter Distribution of NEOs\")\n",
        "plt.xlabel(\"Diameter (km)\")\n",
        "plt.ylabel(\"Count\")\n",
        "plt.show()"
      ],
      "metadata": {
        "colab": {
          "base_uri": "https://localhost:8080/",
          "height": 487
        },
        "id": "cD7hajDT9M94",
        "outputId": "138c984e-b007-4714-e49a-455222bbb353"
      },
      "execution_count": 47,
      "outputs": [
        {
          "output_type": "display_data",
          "data": {
            "text/plain": [
              "<Figure size 800x500 with 1 Axes>"
            ],
            "image/png": "[encoded data removed]"
          },
          "metadata": {}
        }
      ]
    },
    {
      "cell_type": "markdown",
      "source": [
        "Feature Engineering"
      ],
      "metadata": {
        "id": "TXs4dKHpAXd_"
      }
    },
    {
      "cell_type": "code",
      "source": [
        "label_encoders = {}\n",
        "\n",
        "for col in df.select_dtypes(include=[\"object\"]).columns:\n",
        "    label_encoders[col] = LabelEncoder()\n",
        "    df[col] = label_encoders[col].fit_transform(df[col])\n",
        "\n",
        "\n",
        "X = df.drop(columns=[\"is_hazardous\"])\n",
        "y = df[\"is_hazardous\"]\n",
        "\n",
        "X_train, X_test, y_train, y_test = train_test_split(X, y, test_size=0.2, random_state=42)\n",
        "\n",
        "\n",
        "smote = SMOTE(sampling_strategy=\"auto\", random_state=42)\n",
        "X_train_resampled, y_train_resampled = smote.fit_resample(X_train, y_train)\n",
        "\n",
        "print(df.head())\n",
        "print(y_train_resampled.value_counts())"
      ],
      "metadata": {
        "colab": {
          "base_uri": "https://localhost:8080/"
        },
        "id": "U0WgaALg-vzo",
        "outputId": "f46661fc-5c64-4582-c201-6cd6258a92df"
      },
      "execution_count": 59,
      "outputs": [
        {
          "output_type": "stream",
          "name": "stdout",
          "text": [
            "    neo_id   name  absolute_magnitude  estimated_diameter_min  \\\n",
            "0  2162117  30600               19.14                0.394962   \n",
            "1  2349507  31392               18.50                0.530341   \n",
            "2  2455415  32115               21.45                0.136319   \n",
            "3  3132126    736               20.63                0.198863   \n",
            "4  3557844   4877               22.70                0.076658   \n",
            "\n",
            "   estimated_diameter_max  orbiting_body  relative_velocity  miss_distance  \\\n",
            "0                0.883161              0       71745.401048   5.814362e+07   \n",
            "1                1.185878              0      109949.757148   5.580105e+07   \n",
            "2                0.304818              0       24865.506798   6.720689e+07   \n",
            "3                0.444672              0       78890.076805   3.039644e+07   \n",
            "4                0.171412              0       56036.519484   6.311863e+07   \n",
            "\n",
            "   is_hazardous  \n",
            "0         False  \n",
            "1          True  \n",
            "2         False  \n",
            "3         False  \n",
            "4         False  \n",
            "is_hazardous\n",
            "True     235921\n",
            "False    235921\n",
            "Name: count, dtype: int64\n"
          ]
        }
      ]
    },
    {
      "cell_type": "markdown",
      "source": [
        "Random Forest"
      ],
      "metadata": {
        "id": "j0vm0E4pCs1H"
      }
    },
    {
      "cell_type": "code",
      "source": [
        "model = LogisticRegression(max_iter=500, solver='liblinear', random_state=42)\n",
        "model.fit(X_train_resampled, y_train_resampled)\n",
        "y_pred = model.predict(X_test)\n",
        "\n",
        "print(\"Accuracy:\", accuracy_score(y_test, y_pred))\n",
        "print(\"Precision:\", precision_score(y_test, y_pred))\n",
        "print(\"Recall:\", recall_score(y_test, y_pred))\n",
        "print(\"F1 Score:\", f1_score(y_test, y_pred))\n",
        "print(\"AUC-ROC:\", roc_auc_score(y_test, y_pred))"
      ],
      "metadata": {
        "colab": {
          "base_uri": "https://localhost:8080/"
        },
        "id": "Fx72QhXcAQlv",
        "outputId": "86f5483e-0be4-4a7e-e207-564847ed4f6e"
      },
      "execution_count": 64,
      "outputs": [
        {
          "output_type": "stream",
          "name": "stdout",
          "text": [
            "Accuracy: 0.5970725216234198\n",
            "Precision: 0.2042687747035573\n",
            "Recall: 0.7558207558207558\n",
            "F1 Score: 0.32161704669919344\n",
            "AUC-ROC: 0.6649652790747429\n"
          ]
        }
      ]
    },
    {
      "cell_type": "code",
      "source": [],
      "metadata": {
        "id": "qy6RgIQ0D6zZ"
      },
      "execution_count": null,
      "outputs": []
    }
  ]
}